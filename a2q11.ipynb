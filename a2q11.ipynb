{
 "cells": [
  {
   "cell_type": "code",
   "execution_count": 4,
   "metadata": {},
   "outputs": [],
   "source": [
    "import numpy as np\n",
    "import import_ipynb\n",
    "import matplotlib.pyplot as plt\n",
    "import random\n",
    "from random import randrange, uniform\n",
    "import statistics\n",
    "from model import LinearRegression"
   ]
  },
  {
   "cell_type": "code",
   "execution_count": 5,
   "metadata": {},
   "outputs": [],
   "source": [
    "def setLine():\n",
    "    alpha = 0.000000003\n",
    "    numOfSteps = 100000\n",
    "    numberOfLoops = 50\n",
    "    model = LinearRegression()\n",
    "    X_list = list(range(0,1000))\n",
    "    \n",
    "    for i in range(len(X_list)):\n",
    "        model.addSample(i,i)\n",
    "        \n",
    "    X = model.getSample()\n",
    "    Y = model.getValues()\n",
    "\n",
    "    for epoch in range(0,numberOfLoops+1):\n",
    "        current_hypothesis, cost = model.fit(alpha,numOfSteps)\n",
    "        print(\"current hypothesis :\"+str(current_hypothesis) + \"  , cost \"+ str(cost))"
   ]
  },
  {
   "cell_type": "code",
   "execution_count": null,
   "metadata": {},
   "outputs": [],
   "source": [
    "setLine()"
   ]
  },
  {
   "cell_type": "code",
   "execution_count": null,
   "metadata": {},
   "outputs": [],
   "source": []
  }
 ],
 "metadata": {
  "kernelspec": {
   "display_name": "Python 3",
   "language": "python",
   "name": "python3"
  },
  "language_info": {
   "codemirror_mode": {
    "name": "ipython",
    "version": 3
   },
   "file_extension": ".py",
   "mimetype": "text/x-python",
   "name": "python",
   "nbconvert_exporter": "python",
   "pygments_lexer": "ipython3",
   "version": "3.6.8"
  }
 },
 "nbformat": 4,
 "nbformat_minor": 2
}
